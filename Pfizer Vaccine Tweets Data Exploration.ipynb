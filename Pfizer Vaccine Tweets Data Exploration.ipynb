{
 "cells": [
  {
   "attachments": {},
   "cell_type": "markdown",
   "metadata": {},
   "source": [
    "# Pfizer Vaccine Tweets Data Exploration\n",
    "Add an introductory markdown cell with a title (header) and paragraph that describes what you are doing"
   ]
  },
  {
   "cell_type": "markdown",
   "metadata": {},
   "source": [
    "## Importing Dataset\n",
    "\n",
    "* Since this Pfizer Vaccine Tweets dataset is continually updating, we want to pull the dataset directly from Kaggle using the provided API.\n",
    "* To use the Kaggle API, you need to do the following:\n",
    "    * Go to your account, Scroll to API section and Click Expire API Token to remove previous tokens.\n",
    "    * Click on Create New API Token - It will download kaggle.json file on your machine.\n",
    "    * now just put it in the location C:\\Users\\(your user name)\\.kaggle."
   ]
  },
  {
   "cell_type": "code",
   "execution_count": 52,
   "metadata": {},
   "outputs": [],
   "source": [
    "from kaggle.api.kaggle_api_extended import KaggleApi\n",
    "from zipfile import ZipFile\n",
    "api = KaggleApi()\n",
    "api.authenticate()\n",
    "api.dataset_download_files('gpreda/pfizer-vaccine-tweets')"
   ]
  },
  {
   "cell_type": "markdown",
   "metadata": {},
   "source": [
    "## Access the dataset you just download."
   ]
  },
  {
   "cell_type": "code",
   "execution_count": 53,
   "metadata": {},
   "outputs": [],
   "source": [
    "zf = ZipFile('pfizer-vaccine-tweets.zip')\n",
    "#extracted data is saved in the same directory as notebook\n",
    "zf.extractall() \n",
    "zf.close()"
   ]
  },
  {
   "cell_type": "markdown",
   "metadata": {},
   "source": [
    "## Import nessasery tools like Pandas."
   ]
  },
  {
   "cell_type": "code",
   "execution_count": 54,
   "metadata": {},
   "outputs": [],
   "source": [
    "import pandas as pd"
   ]
  },
  {
   "cell_type": "markdown",
   "metadata": {},
   "source": [
    "## Exploratory Analysis"
   ]
  },
  {
   "cell_type": "markdown",
   "metadata": {},
   "source": [
    "### Load the dataset"
   ]
  },
  {
   "cell_type": "code",
   "execution_count": 55,
   "metadata": {},
   "outputs": [],
   "source": [
    "df_tweets=pd.read_csv('vaccination_tweets.csv')"
   ]
  },
  {
   "cell_type": "markdown",
   "metadata": {},
   "source": [
    "### Figuring out the amount of data we have."
   ]
  },
  {
   "cell_type": "code",
   "execution_count": 56,
   "metadata": {},
   "outputs": [
    {
     "data": {
      "text/plain": [
       "(3683, 16)"
      ]
     },
     "execution_count": 56,
     "metadata": {},
     "output_type": "execute_result"
    }
   ],
   "source": [
    "df_tweets.shape"
   ]
  },
  {
   "cell_type": "markdown",
   "metadata": {},
   "source": [
    "Last time I ran this cell gives me (3683, 16), which is 3683 rows and 16 columns.\n",
    "The number of rows may increase due to update."
   ]
  },
  {
   "cell_type": "markdown",
   "metadata": {},
   "source": [
    "### Checking the first  and last 5 rows to have a better understanding."
   ]
  },
  {
   "cell_type": "code",
   "execution_count": 57,
   "metadata": {},
   "outputs": [
    {
     "data": {
      "text/plain": [
       "<bound method DataFrame.info of                        id                                    user_name  \\\n",
       "0     1340539111971516416                                   Rachel Roh   \n",
       "1     1338158543359250433                                  Albert Fong   \n",
       "2     1337858199140118533                                     eli🇱🇹🇪🇺👌   \n",
       "3     1337855739918835717                                Charles Adler   \n",
       "4     1337854064604966912                         Citizen News Channel   \n",
       "...                   ...                                          ...   \n",
       "3678  1347608597677694976                                  Ziggy Bench   \n",
       "3679  1347607972466319363                                 Lynsey Grice   \n",
       "3680  1347607711249293320  St. Luke's General Hospital Carlow/Kilkenny   \n",
       "3681  1347605478839361536                    Georgina Belenguer Ribera   \n",
       "3682  1347604212126011392                        #HelloMyNameIs Jade 💫   \n",
       "\n",
       "                  user_location  \\\n",
       "0     La Crescenta-Montrose, CA   \n",
       "1             San Francisco, CA   \n",
       "2                      Your Bed   \n",
       "3        Vancouver, BC - Canada   \n",
       "4                           NaN   \n",
       "...                         ...   \n",
       "3678        Birmingham, England   \n",
       "3679                        NaN   \n",
       "3680                   Kilkenny   \n",
       "3681             Dakar-Valencia   \n",
       "3682              York, England   \n",
       "\n",
       "                                       user_description         user_created  \\\n",
       "0     Aggregator of Asian American news; scanning di...  2009-04-08 17:52:46   \n",
       "1     Marketing dude, tech geek, heavy metal & '80s ...  2009-09-21 15:27:30   \n",
       "2                                        heil, hydra 🖐☺  2020-06-25 23:30:28   \n",
       "3     Hosting \"CharlesAdlerTonight\" Global News Radi...  2008-09-10 11:28:53   \n",
       "4     Citizen News Channel bringing you an alternati...  2020-04-23 17:58:42   \n",
       "...                                                 ...                  ...   \n",
       "3678                                        AKA Jayne 🙄  2016-01-11 18:13:13   \n",
       "3679  ❤❤❤ Very Proud Continuity of Carer Midwife at ...  2013-12-13 00:06:42   \n",
       "3680                                                NaN  2015-10-19 18:12:43   \n",
       "3681  Psicoterapia Socioterapia Arteterapia Risotera...  2020-04-11 01:39:14   \n",
       "3682  Mummy & Wife 🤍 Newly Qualified Midwife 🕊 “Midw...  2018-01-05 23:44:31   \n",
       "\n",
       "      user_followers  user_friends  user_favourites  user_verified  \\\n",
       "0                405          1692             3247          False   \n",
       "1                834           666              178          False   \n",
       "2                 10            88              155          False   \n",
       "3              49165          3933            21853           True   \n",
       "4                152           580             1473          False   \n",
       "...              ...           ...              ...            ...   \n",
       "3678             128           321             8635          False   \n",
       "3679             748          1293             6309          False   \n",
       "3680            1357          1116             2006          False   \n",
       "3681             402          1265             5838          False   \n",
       "3682             622           918            15692          False   \n",
       "\n",
       "                     date                                               text  \\\n",
       "0     2020-12-20 06:06:44  Same folks said daikon paste could treat a cyt...   \n",
       "1     2020-12-13 16:27:13  While the world has been on the wrong side of ...   \n",
       "2     2020-12-12 20:33:45  #coronavirus #SputnikV #AstraZeneca #PfizerBio...   \n",
       "3     2020-12-12 20:23:59  Facts are immutable, Senator, even when you're...   \n",
       "4     2020-12-12 20:17:19  Explain to me again why we need a vaccine @Bor...   \n",
       "...                   ...                                                ...   \n",
       "3678  2021-01-08 18:18:21  @birmingham_live Had our Pfizer jabs yesterday...   \n",
       "3679  2021-01-08 18:15:52  I've had my #CovidVaccine thank you @nhsuhcw f...   \n",
       "3680  2021-01-08 18:14:50  Great excitement and relief as  our vaccinatio...   \n",
       "3681  2021-01-08 18:05:58  #VOXcspppsoe75up84KKK\\n#Orwell1984\\n#RABIA2014...   \n",
       "3682  2021-01-08 18:00:56  No adverse affects at all from the vaccine, my...   \n",
       "\n",
       "                                               hashtags               source  \\\n",
       "0                                    ['PfizerBioNTech']  Twitter for Android   \n",
       "1                                                   NaN      Twitter Web App   \n",
       "2     ['coronavirus', 'SputnikV', 'AstraZeneca', 'Pf...  Twitter for Android   \n",
       "3                                                   NaN      Twitter Web App   \n",
       "4        ['whereareallthesickpeople', 'PfizerBioNTech']   Twitter for iPhone   \n",
       "...                                                 ...                  ...   \n",
       "3678                                                NaN   Twitter for iPhone   \n",
       "3679      ['CovidVaccine', 'COVID19', 'PfizerBioNTech']  Twitter for Android   \n",
       "3680                                                NaN  Twitter for Android   \n",
       "3681  ['VOXcspppsoe75up84KKK', 'Orwell1984', 'RABIA2...  Twitter for Android   \n",
       "3682                                                NaN   Twitter for iPhone   \n",
       "\n",
       "      retweets  favorites  is_retweet  \n",
       "0            0          0       False  \n",
       "1            1          1       False  \n",
       "2            0          0       False  \n",
       "3          446       2129       False  \n",
       "4            0          0       False  \n",
       "...        ...        ...         ...  \n",
       "3678         0          2       False  \n",
       "3679         1         20       False  \n",
       "3680        10        118       False  \n",
       "3681         0          0       False  \n",
       "3682         0          1       False  \n",
       "\n",
       "[3683 rows x 16 columns]>"
      ]
     },
     "execution_count": 57,
     "metadata": {},
     "output_type": "execute_result"
    }
   ],
   "source": [
    "df_tweets.info"
   ]
  },
  {
   "cell_type": "markdown",
   "metadata": {},
   "source": [
    "This cell gives a messy output of the first 5 and last 5 rows."
   ]
  },
  {
   "cell_type": "markdown",
   "metadata": {},
   "source": [
    "### To have a neater layput, we use the head() method."
   ]
  },
  {
   "cell_type": "code",
   "execution_count": 58,
   "metadata": {},
   "outputs": [
    {
     "data": {
      "text/html": [
       "<div>\n",
       "<style scoped>\n",
       "    .dataframe tbody tr th:only-of-type {\n",
       "        vertical-align: middle;\n",
       "    }\n",
       "\n",
       "    .dataframe tbody tr th {\n",
       "        vertical-align: top;\n",
       "    }\n",
       "\n",
       "    .dataframe thead th {\n",
       "        text-align: right;\n",
       "    }\n",
       "</style>\n",
       "<table border=\"1\" class=\"dataframe\">\n",
       "  <thead>\n",
       "    <tr style=\"text-align: right;\">\n",
       "      <th></th>\n",
       "      <th>id</th>\n",
       "      <th>user_name</th>\n",
       "      <th>user_location</th>\n",
       "      <th>user_description</th>\n",
       "      <th>user_created</th>\n",
       "      <th>user_followers</th>\n",
       "      <th>user_friends</th>\n",
       "      <th>user_favourites</th>\n",
       "      <th>user_verified</th>\n",
       "      <th>date</th>\n",
       "      <th>text</th>\n",
       "      <th>hashtags</th>\n",
       "      <th>source</th>\n",
       "      <th>retweets</th>\n",
       "      <th>favorites</th>\n",
       "      <th>is_retweet</th>\n",
       "    </tr>\n",
       "  </thead>\n",
       "  <tbody>\n",
       "    <tr>\n",
       "      <th>0</th>\n",
       "      <td>1340539111971516416</td>\n",
       "      <td>Rachel Roh</td>\n",
       "      <td>La Crescenta-Montrose, CA</td>\n",
       "      <td>Aggregator of Asian American news; scanning di...</td>\n",
       "      <td>2009-04-08 17:52:46</td>\n",
       "      <td>405</td>\n",
       "      <td>1692</td>\n",
       "      <td>3247</td>\n",
       "      <td>False</td>\n",
       "      <td>2020-12-20 06:06:44</td>\n",
       "      <td>Same folks said daikon paste could treat a cyt...</td>\n",
       "      <td>['PfizerBioNTech']</td>\n",
       "      <td>Twitter for Android</td>\n",
       "      <td>0</td>\n",
       "      <td>0</td>\n",
       "      <td>False</td>\n",
       "    </tr>\n",
       "    <tr>\n",
       "      <th>1</th>\n",
       "      <td>1338158543359250433</td>\n",
       "      <td>Albert Fong</td>\n",
       "      <td>San Francisco, CA</td>\n",
       "      <td>Marketing dude, tech geek, heavy metal &amp; '80s ...</td>\n",
       "      <td>2009-09-21 15:27:30</td>\n",
       "      <td>834</td>\n",
       "      <td>666</td>\n",
       "      <td>178</td>\n",
       "      <td>False</td>\n",
       "      <td>2020-12-13 16:27:13</td>\n",
       "      <td>While the world has been on the wrong side of ...</td>\n",
       "      <td>NaN</td>\n",
       "      <td>Twitter Web App</td>\n",
       "      <td>1</td>\n",
       "      <td>1</td>\n",
       "      <td>False</td>\n",
       "    </tr>\n",
       "    <tr>\n",
       "      <th>2</th>\n",
       "      <td>1337858199140118533</td>\n",
       "      <td>eli🇱🇹🇪🇺👌</td>\n",
       "      <td>Your Bed</td>\n",
       "      <td>heil, hydra 🖐☺</td>\n",
       "      <td>2020-06-25 23:30:28</td>\n",
       "      <td>10</td>\n",
       "      <td>88</td>\n",
       "      <td>155</td>\n",
       "      <td>False</td>\n",
       "      <td>2020-12-12 20:33:45</td>\n",
       "      <td>#coronavirus #SputnikV #AstraZeneca #PfizerBio...</td>\n",
       "      <td>['coronavirus', 'SputnikV', 'AstraZeneca', 'Pf...</td>\n",
       "      <td>Twitter for Android</td>\n",
       "      <td>0</td>\n",
       "      <td>0</td>\n",
       "      <td>False</td>\n",
       "    </tr>\n",
       "    <tr>\n",
       "      <th>3</th>\n",
       "      <td>1337855739918835717</td>\n",
       "      <td>Charles Adler</td>\n",
       "      <td>Vancouver, BC - Canada</td>\n",
       "      <td>Hosting \"CharlesAdlerTonight\" Global News Radi...</td>\n",
       "      <td>2008-09-10 11:28:53</td>\n",
       "      <td>49165</td>\n",
       "      <td>3933</td>\n",
       "      <td>21853</td>\n",
       "      <td>True</td>\n",
       "      <td>2020-12-12 20:23:59</td>\n",
       "      <td>Facts are immutable, Senator, even when you're...</td>\n",
       "      <td>NaN</td>\n",
       "      <td>Twitter Web App</td>\n",
       "      <td>446</td>\n",
       "      <td>2129</td>\n",
       "      <td>False</td>\n",
       "    </tr>\n",
       "    <tr>\n",
       "      <th>4</th>\n",
       "      <td>1337854064604966912</td>\n",
       "      <td>Citizen News Channel</td>\n",
       "      <td>NaN</td>\n",
       "      <td>Citizen News Channel bringing you an alternati...</td>\n",
       "      <td>2020-04-23 17:58:42</td>\n",
       "      <td>152</td>\n",
       "      <td>580</td>\n",
       "      <td>1473</td>\n",
       "      <td>False</td>\n",
       "      <td>2020-12-12 20:17:19</td>\n",
       "      <td>Explain to me again why we need a vaccine @Bor...</td>\n",
       "      <td>['whereareallthesickpeople', 'PfizerBioNTech']</td>\n",
       "      <td>Twitter for iPhone</td>\n",
       "      <td>0</td>\n",
       "      <td>0</td>\n",
       "      <td>False</td>\n",
       "    </tr>\n",
       "  </tbody>\n",
       "</table>\n",
       "</div>"
      ],
      "text/plain": [
       "                    id             user_name              user_location  \\\n",
       "0  1340539111971516416            Rachel Roh  La Crescenta-Montrose, CA   \n",
       "1  1338158543359250433           Albert Fong          San Francisco, CA   \n",
       "2  1337858199140118533              eli🇱🇹🇪🇺👌                   Your Bed   \n",
       "3  1337855739918835717         Charles Adler     Vancouver, BC - Canada   \n",
       "4  1337854064604966912  Citizen News Channel                        NaN   \n",
       "\n",
       "                                    user_description         user_created  \\\n",
       "0  Aggregator of Asian American news; scanning di...  2009-04-08 17:52:46   \n",
       "1  Marketing dude, tech geek, heavy metal & '80s ...  2009-09-21 15:27:30   \n",
       "2                                     heil, hydra 🖐☺  2020-06-25 23:30:28   \n",
       "3  Hosting \"CharlesAdlerTonight\" Global News Radi...  2008-09-10 11:28:53   \n",
       "4  Citizen News Channel bringing you an alternati...  2020-04-23 17:58:42   \n",
       "\n",
       "   user_followers  user_friends  user_favourites  user_verified  \\\n",
       "0             405          1692             3247          False   \n",
       "1             834           666              178          False   \n",
       "2              10            88              155          False   \n",
       "3           49165          3933            21853           True   \n",
       "4             152           580             1473          False   \n",
       "\n",
       "                  date                                               text  \\\n",
       "0  2020-12-20 06:06:44  Same folks said daikon paste could treat a cyt...   \n",
       "1  2020-12-13 16:27:13  While the world has been on the wrong side of ...   \n",
       "2  2020-12-12 20:33:45  #coronavirus #SputnikV #AstraZeneca #PfizerBio...   \n",
       "3  2020-12-12 20:23:59  Facts are immutable, Senator, even when you're...   \n",
       "4  2020-12-12 20:17:19  Explain to me again why we need a vaccine @Bor...   \n",
       "\n",
       "                                            hashtags               source  \\\n",
       "0                                 ['PfizerBioNTech']  Twitter for Android   \n",
       "1                                                NaN      Twitter Web App   \n",
       "2  ['coronavirus', 'SputnikV', 'AstraZeneca', 'Pf...  Twitter for Android   \n",
       "3                                                NaN      Twitter Web App   \n",
       "4     ['whereareallthesickpeople', 'PfizerBioNTech']   Twitter for iPhone   \n",
       "\n",
       "   retweets  favorites  is_retweet  \n",
       "0         0          0       False  \n",
       "1         1          1       False  \n",
       "2         0          0       False  \n",
       "3       446       2129       False  \n",
       "4         0          0       False  "
      ]
     },
     "execution_count": 58,
     "metadata": {},
     "output_type": "execute_result"
    }
   ],
   "source": [
    "df_tweets.head()"
   ]
  },
  {
   "cell_type": "markdown",
   "metadata": {},
   "source": [
    "Now we have the first 5 rows of the dataset in a much neater manner."
   ]
  },
  {
   "cell_type": "markdown",
   "metadata": {},
   "source": [
    "### We want to see the distribution of users' followers."
   ]
  },
  {
   "cell_type": "code",
   "execution_count": 59,
   "metadata": {},
   "outputs": [
    {
     "data": {
      "text/plain": [
       "<AxesSubplot:>"
      ]
     },
     "execution_count": 59,
     "metadata": {},
     "output_type": "execute_result"
    },
    {
     "data": {
      "image/png": "[encoded data removed]",
      "text/plain": [
       "<Figure size 432x288 with 1 Axes>"
      ]
     },
     "metadata": {
      "needs_background": "light"
     },
     "output_type": "display_data"
    }
   ],
   "source": [
    "df_tweets['user_followers'].plot()"
   ]
  },
  {
   "cell_type": "markdown",
   "metadata": {},
   "source": [
    "This will return a histogram of follower number."
   ]
  },
  {
   "cell_type": "markdown",
   "metadata": {},
   "source": [
    "### We are also interested in the means of users accessing social media."
   ]
  },
  {
   "cell_type": "code",
   "execution_count": 60,
   "metadata": {},
   "outputs": [
    {
     "data": {
      "text/plain": [
       "Twitter for iPhone                 1335\n",
       "Twitter Web App                    1105\n",
       "Twitter for Android                 810\n",
       "TweetDeck                           214\n",
       "Twitter for iPad                     99\n",
       "Buffer                               32\n",
       "Instagram                            22\n",
       "Hootsuite Inc.                       16\n",
       "Nonli                                 6\n",
       "LinkedIn                              5\n",
       "Microsoft Power Platform              5\n",
       "SocialFlow                            5\n",
       "24liveblog                            4\n",
       "IFTTT                                 3\n",
       "Twitter for Mac                       2\n",
       "Falcon Social Media Management        2\n",
       "Echobox                               2\n",
       "GT_Backend                            2\n",
       "Twitter Media Studio                  2\n",
       "Sendible                              2\n",
       "ThreadReaderApp                       1\n",
       "Tweetbot for Mac                      1\n",
       "EastMojo                              1\n",
       "Publer                                1\n",
       "TweetCaster for Android               1\n",
       "Sprout Social                         1\n",
       "Twitter Media Studio - LiveCut        1\n",
       "SocialNewsDesk                        1\n",
       "Socialbakers                          1\n",
       "Name: source, dtype: int64"
      ]
     },
     "execution_count": 60,
     "metadata": {},
     "output_type": "execute_result"
    }
   ],
   "source": [
    "df_tweets['source'].value_counts()"
   ]
  },
  {
   "cell_type": "markdown",
   "metadata": {},
   "source": [
    "This will give us the statistics of what method the users tweets. From the results, we can see iPhone users are the majority. Web app users and android users are slightly less than iPhone users, suggesting a possible bias of our data."
   ]
  },
  {
   "cell_type": "markdown",
   "metadata": {},
   "source": [
    "## Data Cleaning"
   ]
  },
  {
   "cell_type": "markdown",
   "metadata": {},
   "source": [
    "### Cleaning unnessasery cloumns"
   ]
  },
  {
   "cell_type": "code",
   "execution_count": 61,
   "metadata": {},
   "outputs": [
    {
     "data": {
      "text/html": [
       "<div>\n",
       "<style scoped>\n",
       "    .dataframe tbody tr th:only-of-type {\n",
       "        vertical-align: middle;\n",
       "    }\n",
       "\n",
       "    .dataframe tbody tr th {\n",
       "        vertical-align: top;\n",
       "    }\n",
       "\n",
       "    .dataframe thead th {\n",
       "        text-align: right;\n",
       "    }\n",
       "</style>\n",
       "<table border=\"1\" class=\"dataframe\">\n",
       "  <thead>\n",
       "    <tr style=\"text-align: right;\">\n",
       "      <th></th>\n",
       "      <th>user_location</th>\n",
       "      <th>user_created</th>\n",
       "      <th>user_followers</th>\n",
       "      <th>user_friends</th>\n",
       "      <th>user_favourites</th>\n",
       "      <th>user_verified</th>\n",
       "      <th>date</th>\n",
       "      <th>text</th>\n",
       "      <th>source</th>\n",
       "      <th>retweets</th>\n",
       "      <th>favorites</th>\n",
       "      <th>is_retweet</th>\n",
       "    </tr>\n",
       "  </thead>\n",
       "  <tbody>\n",
       "    <tr>\n",
       "      <th>0</th>\n",
       "      <td>La Crescenta-Montrose, CA</td>\n",
       "      <td>2009-04-08 17:52:46</td>\n",
       "      <td>405</td>\n",
       "      <td>1692</td>\n",
       "      <td>3247</td>\n",
       "      <td>False</td>\n",
       "      <td>2020-12-20 06:06:44</td>\n",
       "      <td>Same folks said daikon paste could treat a cyt...</td>\n",
       "      <td>Twitter for Android</td>\n",
       "      <td>0</td>\n",
       "      <td>0</td>\n",
       "      <td>False</td>\n",
       "    </tr>\n",
       "    <tr>\n",
       "      <th>1</th>\n",
       "      <td>San Francisco, CA</td>\n",
       "      <td>2009-09-21 15:27:30</td>\n",
       "      <td>834</td>\n",
       "      <td>666</td>\n",
       "      <td>178</td>\n",
       "      <td>False</td>\n",
       "      <td>2020-12-13 16:27:13</td>\n",
       "      <td>While the world has been on the wrong side of ...</td>\n",
       "      <td>Twitter Web App</td>\n",
       "      <td>1</td>\n",
       "      <td>1</td>\n",
       "      <td>False</td>\n",
       "    </tr>\n",
       "    <tr>\n",
       "      <th>2</th>\n",
       "      <td>Your Bed</td>\n",
       "      <td>2020-06-25 23:30:28</td>\n",
       "      <td>10</td>\n",
       "      <td>88</td>\n",
       "      <td>155</td>\n",
       "      <td>False</td>\n",
       "      <td>2020-12-12 20:33:45</td>\n",
       "      <td>#coronavirus #SputnikV #AstraZeneca #PfizerBio...</td>\n",
       "      <td>Twitter for Android</td>\n",
       "      <td>0</td>\n",
       "      <td>0</td>\n",
       "      <td>False</td>\n",
       "    </tr>\n",
       "    <tr>\n",
       "      <th>3</th>\n",
       "      <td>Vancouver, BC - Canada</td>\n",
       "      <td>2008-09-10 11:28:53</td>\n",
       "      <td>49165</td>\n",
       "      <td>3933</td>\n",
       "      <td>21853</td>\n",
       "      <td>True</td>\n",
       "      <td>2020-12-12 20:23:59</td>\n",
       "      <td>Facts are immutable, Senator, even when you're...</td>\n",
       "      <td>Twitter Web App</td>\n",
       "      <td>446</td>\n",
       "      <td>2129</td>\n",
       "      <td>False</td>\n",
       "    </tr>\n",
       "    <tr>\n",
       "      <th>4</th>\n",
       "      <td>NaN</td>\n",
       "      <td>2020-04-23 17:58:42</td>\n",
       "      <td>152</td>\n",
       "      <td>580</td>\n",
       "      <td>1473</td>\n",
       "      <td>False</td>\n",
       "      <td>2020-12-12 20:17:19</td>\n",
       "      <td>Explain to me again why we need a vaccine @Bor...</td>\n",
       "      <td>Twitter for iPhone</td>\n",
       "      <td>0</td>\n",
       "      <td>0</td>\n",
       "      <td>False</td>\n",
       "    </tr>\n",
       "    <tr>\n",
       "      <th>...</th>\n",
       "      <td>...</td>\n",
       "      <td>...</td>\n",
       "      <td>...</td>\n",
       "      <td>...</td>\n",
       "      <td>...</td>\n",
       "      <td>...</td>\n",
       "      <td>...</td>\n",
       "      <td>...</td>\n",
       "      <td>...</td>\n",
       "      <td>...</td>\n",
       "      <td>...</td>\n",
       "      <td>...</td>\n",
       "    </tr>\n",
       "    <tr>\n",
       "      <th>3678</th>\n",
       "      <td>Birmingham, England</td>\n",
       "      <td>2016-01-11 18:13:13</td>\n",
       "      <td>128</td>\n",
       "      <td>321</td>\n",
       "      <td>8635</td>\n",
       "      <td>False</td>\n",
       "      <td>2021-01-08 18:18:21</td>\n",
       "      <td>@birmingham_live Had our Pfizer jabs yesterday...</td>\n",
       "      <td>Twitter for iPhone</td>\n",
       "      <td>0</td>\n",
       "      <td>2</td>\n",
       "      <td>False</td>\n",
       "    </tr>\n",
       "    <tr>\n",
       "      <th>3679</th>\n",
       "      <td>NaN</td>\n",
       "      <td>2013-12-13 00:06:42</td>\n",
       "      <td>748</td>\n",
       "      <td>1293</td>\n",
       "      <td>6309</td>\n",
       "      <td>False</td>\n",
       "      <td>2021-01-08 18:15:52</td>\n",
       "      <td>I've had my #CovidVaccine thank you @nhsuhcw f...</td>\n",
       "      <td>Twitter for Android</td>\n",
       "      <td>1</td>\n",
       "      <td>20</td>\n",
       "      <td>False</td>\n",
       "    </tr>\n",
       "    <tr>\n",
       "      <th>3680</th>\n",
       "      <td>Kilkenny</td>\n",
       "      <td>2015-10-19 18:12:43</td>\n",
       "      <td>1357</td>\n",
       "      <td>1116</td>\n",
       "      <td>2006</td>\n",
       "      <td>False</td>\n",
       "      <td>2021-01-08 18:14:50</td>\n",
       "      <td>Great excitement and relief as  our vaccinatio...</td>\n",
       "      <td>Twitter for Android</td>\n",
       "      <td>10</td>\n",
       "      <td>118</td>\n",
       "      <td>False</td>\n",
       "    </tr>\n",
       "    <tr>\n",
       "      <th>3681</th>\n",
       "      <td>Dakar-Valencia</td>\n",
       "      <td>2020-04-11 01:39:14</td>\n",
       "      <td>402</td>\n",
       "      <td>1265</td>\n",
       "      <td>5838</td>\n",
       "      <td>False</td>\n",
       "      <td>2021-01-08 18:05:58</td>\n",
       "      <td>#VOXcspppsoe75up84KKK\\n#Orwell1984\\n#RABIA2014...</td>\n",
       "      <td>Twitter for Android</td>\n",
       "      <td>0</td>\n",
       "      <td>0</td>\n",
       "      <td>False</td>\n",
       "    </tr>\n",
       "    <tr>\n",
       "      <th>3682</th>\n",
       "      <td>York, England</td>\n",
       "      <td>2018-01-05 23:44:31</td>\n",
       "      <td>622</td>\n",
       "      <td>918</td>\n",
       "      <td>15692</td>\n",
       "      <td>False</td>\n",
       "      <td>2021-01-08 18:00:56</td>\n",
       "      <td>No adverse affects at all from the vaccine, my...</td>\n",
       "      <td>Twitter for iPhone</td>\n",
       "      <td>0</td>\n",
       "      <td>1</td>\n",
       "      <td>False</td>\n",
       "    </tr>\n",
       "  </tbody>\n",
       "</table>\n",
       "<p>3683 rows × 12 columns</p>\n",
       "</div>"
      ],
      "text/plain": [
       "                  user_location         user_created  user_followers  \\\n",
       "0     La Crescenta-Montrose, CA  2009-04-08 17:52:46             405   \n",
       "1             San Francisco, CA  2009-09-21 15:27:30             834   \n",
       "2                      Your Bed  2020-06-25 23:30:28              10   \n",
       "3        Vancouver, BC - Canada  2008-09-10 11:28:53           49165   \n",
       "4                           NaN  2020-04-23 17:58:42             152   \n",
       "...                         ...                  ...             ...   \n",
       "3678        Birmingham, England  2016-01-11 18:13:13             128   \n",
       "3679                        NaN  2013-12-13 00:06:42             748   \n",
       "3680                   Kilkenny  2015-10-19 18:12:43            1357   \n",
       "3681             Dakar-Valencia  2020-04-11 01:39:14             402   \n",
       "3682              York, England  2018-01-05 23:44:31             622   \n",
       "\n",
       "      user_friends  user_favourites  user_verified                 date  \\\n",
       "0             1692             3247          False  2020-12-20 06:06:44   \n",
       "1              666              178          False  2020-12-13 16:27:13   \n",
       "2               88              155          False  2020-12-12 20:33:45   \n",
       "3             3933            21853           True  2020-12-12 20:23:59   \n",
       "4              580             1473          False  2020-12-12 20:17:19   \n",
       "...            ...              ...            ...                  ...   \n",
       "3678           321             8635          False  2021-01-08 18:18:21   \n",
       "3679          1293             6309          False  2021-01-08 18:15:52   \n",
       "3680          1116             2006          False  2021-01-08 18:14:50   \n",
       "3681          1265             5838          False  2021-01-08 18:05:58   \n",
       "3682           918            15692          False  2021-01-08 18:00:56   \n",
       "\n",
       "                                                   text               source  \\\n",
       "0     Same folks said daikon paste could treat a cyt...  Twitter for Android   \n",
       "1     While the world has been on the wrong side of ...      Twitter Web App   \n",
       "2     #coronavirus #SputnikV #AstraZeneca #PfizerBio...  Twitter for Android   \n",
       "3     Facts are immutable, Senator, even when you're...      Twitter Web App   \n",
       "4     Explain to me again why we need a vaccine @Bor...   Twitter for iPhone   \n",
       "...                                                 ...                  ...   \n",
       "3678  @birmingham_live Had our Pfizer jabs yesterday...   Twitter for iPhone   \n",
       "3679  I've had my #CovidVaccine thank you @nhsuhcw f...  Twitter for Android   \n",
       "3680  Great excitement and relief as  our vaccinatio...  Twitter for Android   \n",
       "3681  #VOXcspppsoe75up84KKK\\n#Orwell1984\\n#RABIA2014...  Twitter for Android   \n",
       "3682  No adverse affects at all from the vaccine, my...   Twitter for iPhone   \n",
       "\n",
       "      retweets  favorites  is_retweet  \n",
       "0            0          0       False  \n",
       "1            1          1       False  \n",
       "2            0          0       False  \n",
       "3          446       2129       False  \n",
       "4            0          0       False  \n",
       "...        ...        ...         ...  \n",
       "3678         0          2       False  \n",
       "3679         1         20       False  \n",
       "3680        10        118       False  \n",
       "3681         0          0       False  \n",
       "3682         0          1       False  \n",
       "\n",
       "[3683 rows x 12 columns]"
      ]
     },
     "execution_count": 61,
     "metadata": {},
     "output_type": "execute_result"
    }
   ],
   "source": [
    "df_tweets.drop(columns=['id','user_name','user_description','hashtags'], inplace=True)\n",
    "df_tweets"
   ]
  },
  {
   "cell_type": "markdown",
   "metadata": {},
   "source": [
    "Now we are only left with 12 column variables."
   ]
  },
  {
   "cell_type": "code",
   "execution_count": null,
   "metadata": {},
   "outputs": [],
   "source": []
  }
 ],
 "metadata": {
  "kernelspec": {
   "display_name": "Python 3",
   "language": "python",
   "name": "python3"
  },
  "language_info": {
   "codemirror_mode": {
    "name": "ipython",
    "version": 3
   },
   "file_extension": ".py",
   "mimetype": "text/x-python",
   "name": "python",
   "nbconvert_exporter": "python",
   "pygments_lexer": "ipython3",
   "version": "3.8.5"
  }
 },
 "nbformat": 4,
 "nbformat_minor": 4
}
