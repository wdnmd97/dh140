{
 "cells": [
  {
   "cell_type": "markdown",
   "metadata": {},
   "source": [
    "# Vaccine Tweets Geological Data Exploration And Sentiment Statistics\n",
    "\n",
    "* Authors: \n",
    "    * Yueshuwei Wu\n",
    "* Description:\n",
    "    * This time's data exploration analysis will focus on the geological distribution of the tweets we have. We first used the geotext library to extract user's geographical inofrmation from provided descriptions. Based on the distribution of users' locations, we picked some cities and countries to furthur study the user approval (in a certain region) of the COVID vaccine based on their tweet contents. For this stage of study, we will use the sentiment score of the tweet text as a measure of approval. The higher the sentiment score is, the higher the acceptance.\n",
    "    * The first half of this note book is recycling code from the past assginments. For scentiment analysis, roll halfway down this note book until you see the cell titled **<font size=\"4\">Calculate sentiment score</font>**"
   ]
  },
  {
   "cell_type": "markdown",
   "metadata": {},
   "source": [
    "## Importing Dataset From Kaggle\n",
    "\n",
    "* Since this Pfizer Vaccine Tweets dataset is continually updating, we want to pull the dataset directly from Kaggle using the provided API.\n",
    "* To use the Kaggle API, you need to do the following:\n",
    "    * Go to your account, Scroll to API section and Click Expire API Token to remove previous tokens.\n",
    "    * Click on Create New API Token - It will download kaggle.json file on your machine.\n",
    "    * now just put it in the location C:\\Users\\(your user name)\\.kaggle."
   ]
  },
  {
   "cell_type": "code",
   "execution_count": 2,
   "metadata": {},
   "outputs": [],
   "source": [
    "# uncomment the next line if you are running this notebook on a local machine.\n",
    "#!pip install kaggle\n",
    "from kaggle.api.kaggle_api_extended import KaggleApi\n",
    "from zipfile import ZipFile\n",
    "api = KaggleApi()\n",
    "api.authenticate()\n",
    "api.dataset_download_files('gpreda/pfizer-vaccine-tweets')\n",
    "\n",
    "# Access the dataset just download.\n",
    "zf = ZipFile('pfizer-vaccine-tweets.zip')\n",
    "#extracted data is saved in the same directory as notebook\n",
    "zf.extractall() \n",
    "zf.close()"
   ]
  },
  {
   "cell_type": "markdown",
   "metadata": {},
   "source": [
    "## Data pre-processing\n",
    "### Import Tools"
   ]
  },
  {
   "cell_type": "code",
   "execution_count": 3,
   "metadata": {},
   "outputs": [],
   "source": [
    "import pandas as pd"
   ]
  },
  {
   "cell_type": "markdown",
   "metadata": {},
   "source": [
    "### Load the dataset, check variable names and amount of data points."
   ]
  },
  {
   "cell_type": "code",
   "execution_count": 4,
   "metadata": {},
   "outputs": [
    {
     "name": "stdout",
     "output_type": "stream",
     "text": [
      "Index(['id', 'user_name', 'user_location', 'user_description', 'user_created',\n",
      "       'user_followers', 'user_friends', 'user_favourites', 'user_verified',\n",
      "       'date', 'text', 'hashtags', 'source', 'retweets', 'favorites',\n",
      "       'is_retweet'],\n",
      "      dtype='object')\n",
      "(5041, 16)\n"
     ]
    }
   ],
   "source": [
    "df_tweets = pd.read_csv('vaccination_tweets.csv',dtype={ 'user_location':str})\n",
    "print(df_tweets.columns)\n",
    "print(df_tweets.shape)"
   ]
  },
  {
   "cell_type": "markdown",
   "metadata": {},
   "source": [
    "### Cleaning\n",
    "<br/> Now we drop the columns that we will not use for this assignment. This cell may be modified for future needs."
   ]
  },
  {
   "cell_type": "code",
   "execution_count": 5,
   "metadata": {},
   "outputs": [
    {
     "name": "stdout",
     "output_type": "stream",
     "text": [
      "Index(['id', 'user_name', 'user_location', 'user_created', 'user_followers',\n",
      "       'user_friends', 'user_favourites', 'user_verified', 'date', 'text',\n",
      "       'source', 'retweets', 'favorites', 'is_retweet'],\n",
      "      dtype='object')\n",
      "(5041, 14)\n"
     ]
    }
   ],
   "source": [
    "df_tweets.drop(columns=['user_description','hashtags'], inplace=True)\n",
    "print(df_tweets.columns)\n",
    "print(df_tweets.shape)"
   ]
  },
  {
   "cell_type": "markdown",
   "metadata": {},
   "source": [
    "## Extracting user's locations.\n",
    "Some users had proveded descriptions about their location but not necessarily the exact address. We want to at least extract the city and country information of the user. To accomplish this task, we will us a library call Geotext.This library allow us to extract city name and country code without going through the NLP hassle. The geological information will be used to guide the direction of this research. \n",
    "### Import GeoText"
   ]
  },
  {
   "cell_type": "code",
   "execution_count": 6,
   "metadata": {},
   "outputs": [
    {
     "name": "stdout",
     "output_type": "stream",
     "text": [
      "Requirement already satisfied: geotext in c:\\users\\wuyue\\anaconda3\\lib\\site-packages (0.4.0)\n"
     ]
    }
   ],
   "source": [
    "!pip install geotext\n",
    "from geotext import GeoText"
   ]
  },
  {
   "cell_type": "markdown",
   "metadata": {},
   "source": [
    "### How GeoText works?"
   ]
  },
  {
   "cell_type": "code",
   "execution_count": 7,
   "metadata": {},
   "outputs": [
    {
     "name": "stdout",
     "output_type": "stream",
     "text": [
      "[]\n",
      "['London']\n",
      "GB\n",
      "tada!\n"
     ]
    }
   ],
   "source": [
    "# must import the method in next line to extract keys from ordered dictionary\n",
    "from collections import OrderedDict \n",
    "places1 = GeoText(\"my bed\")\n",
    "print(places1.cities)\n",
    "# prints empty list []\n",
    "places2 = GeoText(\"London is a great city\")\n",
    "print(places2.cities)\n",
    "# prints ['London']\n",
    "print(list(places2.country_mentions.keys())[0])\n",
    "print(\"tada!\")"
   ]
  },
  {
   "cell_type": "markdown",
   "metadata": {},
   "source": [
    "To make full use of it, we need to import one more library"
   ]
  },
  {
   "cell_type": "code",
   "execution_count": 8,
   "metadata": {},
   "outputs": [
    {
     "name": "stdout",
     "output_type": "stream",
     "text": [
      "odict_keys(['a', 'b', 'c', 'd'])\n"
     ]
    }
   ],
   "source": [
    "from collections import OrderedDict \n",
    "od = OrderedDict() \n",
    "od['a'] = 1\n",
    "od['b'] = 2\n",
    "od['c'] = 3\n",
    "od['d'] = 4\n",
    "print(od.keys())"
   ]
  },
  {
   "cell_type": "markdown",
   "metadata": {},
   "source": [
    "### Further cleaning\n",
    "Since we cannot extract locations from numbers or null entries we should drop the rows that user_location is not string. It's okay to have empty string as location description, Geotext will figure it out. \n",
    "<br/> This cell is optional, you can specify the location description to be string when loading the dataset. But if the location description is not string, then that row is likely to cause error later."
   ]
  },
  {
   "cell_type": "code",
   "execution_count": 9,
   "metadata": {},
   "outputs": [
    {
     "data": {
      "text/plain": [
       "(3983, 14)"
      ]
     },
     "execution_count": 9,
     "metadata": {},
     "output_type": "execute_result"
    }
   ],
   "source": [
    "indexes_to_drop = []\n",
    "for index, row in df_tweets.iterrows():\n",
    "    if type(row['user_location']) is not str:\n",
    "        indexes_to_drop.append(df_tweets.index[index])\n",
    "    \n",
    "df_tweets.drop(indexes_to_drop, inplace=True)\n",
    "df_tweets.shape"
   ]
  },
  {
   "cell_type": "markdown",
   "metadata": {},
   "source": [
    "We lost about 1000 data points, but we still have about 3983 left.\n",
    "### Finally, extracting location data\n",
    "<br/>Next we will extract and assign the city names to the each data point."
   ]
  },
  {
   "cell_type": "code",
   "execution_count": 10,
   "metadata": {},
   "outputs": [],
   "source": [
    "from collections import OrderedDict \n",
    "user_city = []\n",
    "user_country = []\n",
    "for index, row in df_tweets.iterrows():\n",
    "    if GeoText(row['user_location']).cities:\n",
    "        user_city.append(GeoText(row['user_location']).cities[0])\n",
    "        user_country.append(list(GeoText(row['user_location']).country_mentions.keys())[0])\n",
    "    else:\n",
    "        user_city.append('')\n",
    "        user_country.append('')\n",
    "\n",
    "df_tweets['user_city'] = user_city\n",
    "df_tweets['user_country'] = user_country"
   ]
  },
  {
   "cell_type": "markdown",
   "metadata": {},
   "source": [
    "## Analysis\n",
    "### Number of tweets per location\n",
    "We want to see which cities' users are more likely to tweet about the vaccines. This can be done by appling the value_count() method."
   ]
  },
  {
   "cell_type": "code",
   "execution_count": 11,
   "metadata": {},
   "outputs": [
    {
     "data": {
      "text/html": [
       "<div>\n",
       "<style scoped>\n",
       "    .dataframe tbody tr th:only-of-type {\n",
       "        vertical-align: middle;\n",
       "    }\n",
       "\n",
       "    .dataframe tbody tr th {\n",
       "        vertical-align: top;\n",
       "    }\n",
       "\n",
       "    .dataframe thead th {\n",
       "        text-align: right;\n",
       "    }\n",
       "</style>\n",
       "<table border=\"1\" class=\"dataframe\">\n",
       "  <thead>\n",
       "    <tr style=\"text-align: right;\">\n",
       "      <th></th>\n",
       "      <th>user_city</th>\n",
       "    </tr>\n",
       "  </thead>\n",
       "  <tbody>\n",
       "    <tr>\n",
       "      <th></th>\n",
       "      <td>2007</td>\n",
       "    </tr>\n",
       "    <tr>\n",
       "      <th>London</th>\n",
       "      <td>188</td>\n",
       "    </tr>\n",
       "    <tr>\n",
       "      <th>Dubai</th>\n",
       "      <td>62</td>\n",
       "    </tr>\n",
       "    <tr>\n",
       "      <th>New York</th>\n",
       "      <td>51</td>\n",
       "    </tr>\n",
       "    <tr>\n",
       "      <th>Toronto</th>\n",
       "      <td>50</td>\n",
       "    </tr>\n",
       "    <tr>\n",
       "      <th>New Delhi</th>\n",
       "      <td>47</td>\n",
       "    </tr>\n",
       "    <tr>\n",
       "      <th>Mumbai</th>\n",
       "      <td>42</td>\n",
       "    </tr>\n",
       "    <tr>\n",
       "      <th>Cornwall</th>\n",
       "      <td>39</td>\n",
       "    </tr>\n",
       "    <tr>\n",
       "      <th>Glasgow</th>\n",
       "      <td>39</td>\n",
       "    </tr>\n",
       "    <tr>\n",
       "      <th>Watford</th>\n",
       "      <td>38</td>\n",
       "    </tr>\n",
       "  </tbody>\n",
       "</table>\n",
       "</div>"
      ],
      "text/plain": [
       "           user_city\n",
       "                2007\n",
       "London           188\n",
       "Dubai             62\n",
       "New York          51\n",
       "Toronto           50\n",
       "New Delhi         47\n",
       "Mumbai            42\n",
       "Cornwall          39\n",
       "Glasgow           39\n",
       "Watford           38"
      ]
     },
     "execution_count": 11,
     "metadata": {},
     "output_type": "execute_result"
    }
   ],
   "source": [
    "df_tweets['user_city'].value_counts().to_frame().head(10)"
   ]
  },
  {
   "cell_type": "markdown",
   "metadata": {},
   "source": [
    "Repeat the same procedure for countries."
   ]
  },
  {
   "cell_type": "code",
   "execution_count": 12,
   "metadata": {
    "scrolled": true
   },
   "outputs": [
    {
     "data": {
      "text/html": [
       "<div>\n",
       "<style scoped>\n",
       "    .dataframe tbody tr th:only-of-type {\n",
       "        vertical-align: middle;\n",
       "    }\n",
       "\n",
       "    .dataframe tbody tr th {\n",
       "        vertical-align: top;\n",
       "    }\n",
       "\n",
       "    .dataframe thead th {\n",
       "        text-align: right;\n",
       "    }\n",
       "</style>\n",
       "<table border=\"1\" class=\"dataframe\">\n",
       "  <thead>\n",
       "    <tr style=\"text-align: right;\">\n",
       "      <th></th>\n",
       "      <th>user_country</th>\n",
       "    </tr>\n",
       "  </thead>\n",
       "  <tbody>\n",
       "    <tr>\n",
       "      <th></th>\n",
       "      <td>2007</td>\n",
       "    </tr>\n",
       "    <tr>\n",
       "      <th>US</th>\n",
       "      <td>775</td>\n",
       "    </tr>\n",
       "    <tr>\n",
       "      <th>GB</th>\n",
       "      <td>426</td>\n",
       "    </tr>\n",
       "    <tr>\n",
       "      <th>IN</th>\n",
       "      <td>169</td>\n",
       "    </tr>\n",
       "    <tr>\n",
       "      <th>CA</th>\n",
       "      <td>168</td>\n",
       "    </tr>\n",
       "    <tr>\n",
       "      <th>AE</th>\n",
       "      <td>70</td>\n",
       "    </tr>\n",
       "    <tr>\n",
       "      <th>IE</th>\n",
       "      <td>38</td>\n",
       "    </tr>\n",
       "    <tr>\n",
       "      <th>DE</th>\n",
       "      <td>34</td>\n",
       "    </tr>\n",
       "    <tr>\n",
       "      <th>ZA</th>\n",
       "      <td>29</td>\n",
       "    </tr>\n",
       "    <tr>\n",
       "      <th>PH</th>\n",
       "      <td>23</td>\n",
       "    </tr>\n",
       "  </tbody>\n",
       "</table>\n",
       "</div>"
      ],
      "text/plain": [
       "    user_country\n",
       "            2007\n",
       "US           775\n",
       "GB           426\n",
       "IN           169\n",
       "CA           168\n",
       "AE            70\n",
       "IE            38\n",
       "DE            34\n",
       "ZA            29\n",
       "PH            23"
      ]
     },
     "execution_count": 12,
     "metadata": {},
     "output_type": "execute_result"
    }
   ],
   "source": [
    "df_tweets['user_country'].value_counts().to_frame().head(10)"
   ]
  },
  {
   "cell_type": "markdown",
   "metadata": {},
   "source": [
    "\n",
    "We can see that majority of tweets are from the United States (US) and the United Kingdom (GB). Another interesting observation is that more than one third of the UK tweets are from London, whereas the US tweets has a more \"sparse\" geographical distribution. The city that contributed most to the US tweets is New York, which contributed less than 10% of the US tweets. \n",
    "### User contributions\n",
    "The next step is to check if any user contributed significantly to the total counts."
   ]
  },
  {
   "cell_type": "code",
   "execution_count": 13,
   "metadata": {
    "scrolled": true
   },
   "outputs": [
    {
     "data": {
      "text/html": [
       "<div>\n",
       "<style scoped>\n",
       "    .dataframe tbody tr th:only-of-type {\n",
       "        vertical-align: middle;\n",
       "    }\n",
       "\n",
       "    .dataframe tbody tr th {\n",
       "        vertical-align: top;\n",
       "    }\n",
       "\n",
       "    .dataframe thead th {\n",
       "        text-align: right;\n",
       "    }\n",
       "</style>\n",
       "<table border=\"1\" class=\"dataframe\">\n",
       "  <thead>\n",
       "    <tr style=\"text-align: right;\">\n",
       "      <th></th>\n",
       "      <th>user_name</th>\n",
       "      <th>count</th>\n",
       "    </tr>\n",
       "  </thead>\n",
       "  <tbody>\n",
       "    <tr>\n",
       "      <th>0</th>\n",
       "      <td>TheRag</td>\n",
       "      <td>49</td>\n",
       "    </tr>\n",
       "    <tr>\n",
       "      <th>1</th>\n",
       "      <td>Ian 3.5% #FBPE</td>\n",
       "      <td>37</td>\n",
       "    </tr>\n",
       "    <tr>\n",
       "      <th>2</th>\n",
       "      <td>Simon Hodes ⬅️2m➡️ 😷</td>\n",
       "      <td>30</td>\n",
       "    </tr>\n",
       "    <tr>\n",
       "      <th>3</th>\n",
       "      <td>Whtrslugcaviiersong#dontstayhomeandcatchcovid19</td>\n",
       "      <td>30</td>\n",
       "    </tr>\n",
       "    <tr>\n",
       "      <th>4</th>\n",
       "      <td>ILKHA</td>\n",
       "      <td>29</td>\n",
       "    </tr>\n",
       "  </tbody>\n",
       "</table>\n",
       "</div>"
      ],
      "text/plain": [
       "                                         user_name  count\n",
       "0                                           TheRag     49\n",
       "1                                   Ian 3.5% #FBPE     37\n",
       "2                             Simon Hodes ⬅️2m➡️ 😷     30\n",
       "3  Whtrslugcaviiersong#dontstayhomeandcatchcovid19     30\n",
       "4                                            ILKHA     29"
      ]
     },
     "execution_count": 13,
     "metadata": {},
     "output_type": "execute_result"
    }
   ],
   "source": [
    "frequent_tweeters = df_tweets['user_name'].value_counts().head(15).to_frame().reset_index()\n",
    "frequent_tweeters.columns = ['user_name', 'count']\n",
    "frequent_tweeters.head(5)"
   ]
  },
  {
   "cell_type": "markdown",
   "metadata": {},
   "source": [
    "Now let's find out where are these user tweeting from so we can consider which cities will not be investigated."
   ]
  },
  {
   "cell_type": "code",
   "execution_count": 14,
   "metadata": {},
   "outputs": [
    {
     "data": {
      "text/plain": [
       "country  city    \n",
       "AE       Dubai       13\n",
       "CA       Cornwall    37\n",
       "GB       Watford     30\n",
       "         Glasgow     20\n",
       "IN       Mumbai      13\n",
       "Name: city, dtype: int64"
      ]
     },
     "execution_count": 14,
     "metadata": {},
     "output_type": "execute_result"
    }
   ],
   "source": [
    "cities = []\n",
    "countries = []\n",
    "for index, row in df_tweets.iterrows():\n",
    "    if row['user_name'] in list(frequent_tweeters['user_name']):\n",
    "        if row['user_city'] and row['user_country']:\n",
    "            cities.append(row['user_city'])\n",
    "            countries.append(row['user_country'])\n",
    "pairs = {'city': cities , 'country': countries}\n",
    "df = pd.DataFrame(pairs)\n",
    "df.groupby('country')['city'].value_counts()"
   ]
  },
  {
   "cell_type": "markdown",
   "metadata": {},
   "source": [
    "We can see these users contributed the majority of tweets from Cornwall Watford and Glasgow. we may study more closely what are they tweeting later, but for now we will exclude these cities from our study."
   ]
  },
  {
   "cell_type": "markdown",
   "metadata": {},
   "source": [
    "### What to investigate?\n",
    "Notice US users contributed nearly one fifth of the tweets, we want to take a look at the cities that cares most about vaccine. We also want to see what makes them stand out and possible reasons behind this. Taking the information above in to consideration, we decided to further investigate the differences of race profiles amoung those top tweeted cities.\n",
    "\n",
    "We firts seperate the US users from the dataset. we should have 717 data points."
   ]
  },
  {
   "cell_type": "code",
   "execution_count": 15,
   "metadata": {},
   "outputs": [
    {
     "data": {
      "text/plain": [
       "(775, 16)"
      ]
     },
     "execution_count": 15,
     "metadata": {},
     "output_type": "execute_result"
    }
   ],
   "source": [
    "df_UStweets = df_tweets.query(\"user_country == 'US'\")\n",
    "df_UStweets.shape"
   ]
  },
  {
   "cell_type": "markdown",
   "metadata": {},
   "source": [
    "Now we want to pick the cities we want to study, a value count will help us make our decision."
   ]
  },
  {
   "cell_type": "code",
   "execution_count": 16,
   "metadata": {},
   "outputs": [
    {
     "data": {
      "text/html": [
       "<div>\n",
       "<style scoped>\n",
       "    .dataframe tbody tr th:only-of-type {\n",
       "        vertical-align: middle;\n",
       "    }\n",
       "\n",
       "    .dataframe tbody tr th {\n",
       "        vertical-align: top;\n",
       "    }\n",
       "\n",
       "    .dataframe thead th {\n",
       "        text-align: right;\n",
       "    }\n",
       "</style>\n",
       "<table border=\"1\" class=\"dataframe\">\n",
       "  <thead>\n",
       "    <tr style=\"text-align: right;\">\n",
       "      <th></th>\n",
       "      <th>user_city</th>\n",
       "    </tr>\n",
       "  </thead>\n",
       "  <tbody>\n",
       "    <tr>\n",
       "      <th>New York</th>\n",
       "      <td>50</td>\n",
       "    </tr>\n",
       "    <tr>\n",
       "      <th>Chicago</th>\n",
       "      <td>31</td>\n",
       "    </tr>\n",
       "    <tr>\n",
       "      <th>Boston</th>\n",
       "      <td>23</td>\n",
       "    </tr>\n",
       "    <tr>\n",
       "      <th>Atlanta</th>\n",
       "      <td>23</td>\n",
       "    </tr>\n",
       "    <tr>\n",
       "      <th>Los Angeles</th>\n",
       "      <td>21</td>\n",
       "    </tr>\n",
       "    <tr>\n",
       "      <th>Washington</th>\n",
       "      <td>20</td>\n",
       "    </tr>\n",
       "  </tbody>\n",
       "</table>\n",
       "</div>"
      ],
      "text/plain": [
       "             user_city\n",
       "New York            50\n",
       "Chicago             31\n",
       "Boston              23\n",
       "Atlanta             23\n",
       "Los Angeles         21\n",
       "Washington          20"
      ]
     },
     "execution_count": 16,
     "metadata": {},
     "output_type": "execute_result"
    }
   ],
   "source": [
    "df_UStweets['user_city'].value_counts().to_frame().head(6)"
   ]
  },
  {
   "cell_type": "markdown",
   "metadata": {},
   "source": [
    "We observed that New York city and Chicago city has signifant more tweets than others. The rest of the cities on the list seems all have tweets around 20. Thus, for simplicity, we will analyze the race profiles of New York, Chicago and Los Angeles. This will be done by introducing the census data.\t"
   ]
  },
  {
   "cell_type": "markdown",
   "metadata": {},
   "source": [
    "## Calculate sentiment score\n",
    "For this stage of study, we will use the sentiment score of the tweets' text as a measure of approval. \n",
    "The higher the sentiment score of a tweet, the higher the acceptance."
   ]
  },
  {
   "cell_type": "markdown",
   "metadata": {},
   "source": [
    "We need to import the NLTK library and download some dictionaries to run certain methods."
   ]
  },
  {
   "cell_type": "code",
   "execution_count": 17,
   "metadata": {},
   "outputs": [
    {
     "name": "stderr",
     "output_type": "stream",
     "text": [
      "[nltk_data] Downloading package punkt to\n",
      "[nltk_data]     C:\\Users\\Wuyue\\AppData\\Roaming\\nltk_data...\n",
      "[nltk_data]   Package punkt is already up-to-date!\n",
      "[nltk_data] Downloading package stopwords to\n",
      "[nltk_data]     C:\\Users\\Wuyue\\AppData\\Roaming\\nltk_data...\n",
      "[nltk_data]   Package stopwords is already up-to-date!\n",
      "[nltk_data] Downloading package vader_lexicon to\n",
      "[nltk_data]     C:\\Users\\Wuyue\\AppData\\Roaming\\nltk_data...\n",
      "[nltk_data]   Package vader_lexicon is already up-to-date!\n"
     ]
    }
   ],
   "source": [
    "import nltk\n",
    "nltk.download('punkt')\n",
    "nltk.download('stopwords')\n",
    "nltk.download('vader_lexicon')\n",
    "from nltk.tokenize import word_tokenize\n",
    "from nltk.corpus import stopwords\n",
    "from nltk.sentiment import SentimentIntensityAnalyzer"
   ]
  },
  {
   "cell_type": "markdown",
   "metadata": {},
   "source": [
    "Now we will calculate the centiment score for each tweet, we will also split out the words for word frequency count and visualize it with word cloud."
   ]
  },
  {
   "cell_type": "code",
   "execution_count": 25,
   "metadata": {},
   "outputs": [],
   "source": [
    "# set stop words\n",
    "stop_words = set(stopwords.words('english'))\n",
    "\n",
    "# create new list for adding new columns\n",
    "tweet_NPL=[]\n",
    "sentiment = []\n",
    "\n",
    "# load the sentiment function\n",
    "sia = SentimentIntensityAnalyzer()\n",
    "# load the stemmer function \n",
    "porter = nltk.PorterStemmer()\n",
    "\n",
    "# iterate through all rows and calcukate sentiment scores\n",
    "for index, row in df_tweets.iterrows():\n",
    "    \n",
    "    # we replace the URL to avoid unwanted clicking\n",
    "    # not doing this will result most sentiment scores become 0, so be carefull\n",
    "    tweet = row['text'].replace(\"://\", \"//\")\n",
    "    # the sentiment score is calculated by one line of code\n",
    "    # it returns a disctionary, so we need to name the score we want\n",
    "    sentiment.append(sia.polarity_scores(tweet)['compound'])\n",
    "    # uncomment the following line, you will see the dictionary\n",
    "    # sentiment.append(sia.polarity_scores(tweet))\n",
    "    \n",
    "    \n",
    "    \n",
    "    # now we need to extract usefull words from the text, it takes some steps\n",
    "    # we first splits up the sentence into words using the tokenize function\n",
    "    word_lists = word_tokenize(row['text'])\n",
    "    # we then turn every word into lower case\n",
    "    word_lists = [w.lower() for w in word_lists]\n",
    "    \n",
    "    # similar to stop words, we create a list of characters we don't want\n",
    "    unwanted_chars = ['.',':',',',\"n't\",\"'ve\",'http']\n",
    "    \n",
    "    # trim the word list using stop words and unwanted_chars\n",
    "    trimmed_word_list = [w for w in word_lists if not w in stop_words] \n",
    "    trimmed_word_list = [w for w in word_lists if not w in unwanted_chars] \n",
    "    # we also filter out the URL\n",
    "    trimmed_word_list = [w for w in trimmed_word_list if not w[:2]== \"//\"] \n",
    "    \n",
    "    # Now lets stem the words using the stemmer function we load earlier\n",
    "    trimmed_word_list  = [porter.stem(w) for w in trimmed_word_list]\n",
    "    # add it to the list we created\n",
    "    tweet_NPL.append(trimmed_word_list)\n",
    "\n",
    "# now we have new column variables for analysis\n",
    "df_tweets['text_words'] = tweet_NPL\n",
    "df_tweets['sentiment'] = sentiment"
   ]
  },
  {
   "cell_type": "markdown",
   "metadata": {},
   "source": [
    "Let's do some simple checking...\n",
    "The following cell will demonstrate how we processed the tweet."
   ]
  },
  {
   "cell_type": "code",
   "execution_count": 26,
   "metadata": {},
   "outputs": [
    {
     "name": "stdout",
     "output_type": "stream",
     "text": [
      "While the world has been on the wrong side of history this year, hopefully, the biggest vaccination effort we've ev… https://t.co/dlCHrZjkhm\n",
      "['while', 'the', 'world', 'ha', 'been', 'on', 'the', 'wrong', 'side', 'of', 'histori', 'thi', 'year', 'hope', 'the', 'biggest', 'vaccin', 'effort', 'we', 'ev…', 'http']\n",
      "-0.1027\n"
     ]
    }
   ],
   "source": [
    "# do some simple checking\n",
    "print (df_tweets['text'][1])\n",
    "print (tweet_NPL[1])\n",
    "print (sentiment[1])"
   ]
  },
  {
   "cell_type": "markdown",
   "metadata": {},
   "source": [
    "Now we can check the world's sentiment scores about the vaccine."
   ]
  },
  {
   "cell_type": "code",
   "execution_count": 27,
   "metadata": {},
   "outputs": [
    {
     "name": "stdout",
     "output_type": "stream",
     "text": [
      "0.12745149384885782\n"
     ]
    },
    {
     "data": {
      "text/plain": [
       "<matplotlib.legend.Legend at 0x1b8377a0d30>"
      ]
     },
     "execution_count": 27,
     "metadata": {},
     "output_type": "execute_result"
    },
    {
     "data": {
      "image/png": "[encoded data removed]",
      "text/plain": [
       "<Figure size 432x288 with 1 Axes>"
      ]
     },
     "metadata": {
      "needs_background": "light"
     },
     "output_type": "display_data"
    }
   ],
   "source": [
    "ax = df_tweets['sentiment'].plot.hist(stacked=True,bins=20)\n",
    "print(df_tweets['sentiment'].mean())\n",
    "ax.legend()"
   ]
  },
  {
   "cell_type": "markdown",
   "metadata": {},
   "source": [
    "We can see most posts are neutral, and there are more positive posts than negative ones, which yields a positive average sentiment score. This is a good sign for puplic's acceptance of the vaccine.\n",
    "\n",
    "Now let's take a look at the acceptance of individual cities."
   ]
  },
  {
   "cell_type": "code",
   "execution_count": 28,
   "metadata": {},
   "outputs": [
    {
     "data": {
      "image/png": "[encoded data removed]",
      "text/plain": [
       "<Figure size 648x432 with 6 Axes>"
      ]
     },
     "metadata": {
      "needs_background": "light"
     },
     "output_type": "display_data"
    }
   ],
   "source": [
    "import matplotlib.pyplot as plt\n",
    "fig = plt.figure(figsize=(9,6))\n",
    "\n",
    "# Divide the figure into a 1x2 grid, and give me the first section\n",
    "# ax1 = fig.add_subplot(2, 2, (1,2))\n",
    "ax1 = fig.add_subplot(3, 2, 1)\n",
    "ax2 = fig.add_subplot(3, 2, 2)\n",
    "ax3 = fig.add_subplot(3, 2, 3)\n",
    "ax4 = fig.add_subplot(3, 2, 4)\n",
    "ax5 = fig.add_subplot(3, 2, 5)\n",
    "ax6 = fig.add_subplot(3, 2, 6)\n",
    "axs = [ax1,ax2,ax3,ax4,ax5,ax6]\n",
    "cities = ['New York','Chicago','Boston','Los Angeles','London','New Delhi']\n",
    "\n",
    "for i in range(len(axs)):\n",
    "    df_tweets.query(\"user_city == '\"+ cities[i] + \"'\" )['sentiment'].plot.hist(stacked=True,bins=10, ax=axs[i])\n",
    "    axs[i].set(xlabel='sentiment score', ylabel='Frequency', title=cities[i] )\n",
    "\n",
    "plt.tight_layout()\n",
    "plt.show()"
   ]
  },
  {
   "cell_type": "markdown",
   "metadata": {},
   "source": [
    "The plots show that most people's reaction on the vaccine are either nuetral or positive.\n",
    "\n",
    "Now let's compare the acceptance with other countries."
   ]
  },
  {
   "cell_type": "code",
   "execution_count": 29,
   "metadata": {},
   "outputs": [
    {
     "data": {
      "image/png": "[encoded data removed]",
      "text/plain": [
       "<Figure size 648x432 with 4 Axes>"
      ]
     },
     "metadata": {
      "needs_background": "light"
     },
     "output_type": "display_data"
    }
   ],
   "source": [
    "fig = plt.figure(figsize=(9,6))\n",
    "\n",
    "# Divide the figure into a 1x2 grid, and give me the first section\n",
    "# ax1 = fig.add_subplot(2, 2, (1,2))\n",
    "ax1 = fig.add_subplot(2, 2, 1)\n",
    "ax2 = fig.add_subplot(2, 2, 2)\n",
    "ax3 = fig.add_subplot(2, 2, 3)\n",
    "ax4 = fig.add_subplot(2, 2, 4)\n",
    "axs = [ax1,ax2,ax3,ax4]\n",
    "contries = ['US','GB','IN','CA']\n",
    "contries_full = [\"U.S\",\"United Kingdom\",\"India\",\"Canada\"]\n",
    "\n",
    "for i in range(len(axs)):\n",
    "    df_tweets.query(\"user_country == '\"+ contries[i] + \"'\" )['sentiment'].plot.hist(stacked=True,bins=20, ax=axs[i])\n",
    "    axs[i].set(xlabel='sentiment score', ylabel='Frequency', title=contries_full[i] )\n",
    "\n",
    "plt.tight_layout()\n",
    "plt.show()"
   ]
  },
  {
   "cell_type": "markdown",
   "metadata": {},
   "source": [
    "Both U.S and U.K have a high acceptance rate, which is as expected since we are all having a hard time. Interestingly India has a significant higher rejection rate (negative sentiment score) about the vaccine. This will need to be further investigated."
   ]
  },
  {
   "cell_type": "code",
   "execution_count": null,
   "metadata": {},
   "outputs": [],
   "source": []
  },
  {
   "cell_type": "code",
   "execution_count": null,
   "metadata": {},
   "outputs": [],
   "source": []
  }
 ],
 "metadata": {
  "kernelspec": {
   "display_name": "Python 3",
   "language": "python",
   "name": "python3"
  },
  "language_info": {
   "codemirror_mode": {
    "name": "ipython",
    "version": 3
   },
   "file_extension": ".py",
   "mimetype": "text/x-python",
   "name": "python",
   "nbconvert_exporter": "python",
   "pygments_lexer": "ipython3",
   "version": "3.8.5"
  }
 },
 "nbformat": 4,
 "nbformat_minor": 4
}
